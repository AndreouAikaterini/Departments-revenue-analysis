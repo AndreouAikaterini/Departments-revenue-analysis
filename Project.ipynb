{
 "cells": [
  {
   "cell_type": "markdown",
   "metadata": {},
   "source": [
    "Reading the File"
   ]
  },
  {
   "cell_type": "code",
   "execution_count": 1,
   "metadata": {},
   "outputs": [
    {
     "data": {
      "text/html": [
       "<div>\n",
       "<style scoped>\n",
       "    .dataframe tbody tr th:only-of-type {\n",
       "        vertical-align: middle;\n",
       "    }\n",
       "\n",
       "    .dataframe tbody tr th {\n",
       "        vertical-align: top;\n",
       "    }\n",
       "\n",
       "    .dataframe thead th {\n",
       "        text-align: right;\n",
       "    }\n",
       "</style>\n",
       "<table border=\"1\" class=\"dataframe\">\n",
       "  <thead>\n",
       "    <tr style=\"text-align: right;\">\n",
       "      <th></th>\n",
       "      <th>DEPARTMENT_ID</th>\n",
       "      <th>DEPARTMENT_NAME</th>\n",
       "      <th>MANAGER_ID</th>\n",
       "      <th>LOCATION_ID</th>\n",
       "    </tr>\n",
       "  </thead>\n",
       "  <tbody>\n",
       "    <tr>\n",
       "      <th>0</th>\n",
       "      <td>10</td>\n",
       "      <td>Administration</td>\n",
       "      <td>200.0</td>\n",
       "      <td>1700</td>\n",
       "    </tr>\n",
       "    <tr>\n",
       "      <th>1</th>\n",
       "      <td>20</td>\n",
       "      <td>Marketing</td>\n",
       "      <td>201.0</td>\n",
       "      <td>1800</td>\n",
       "    </tr>\n",
       "    <tr>\n",
       "      <th>2</th>\n",
       "      <td>30</td>\n",
       "      <td>Purchasing</td>\n",
       "      <td>114.0</td>\n",
       "      <td>1700</td>\n",
       "    </tr>\n",
       "    <tr>\n",
       "      <th>3</th>\n",
       "      <td>40</td>\n",
       "      <td>Human Resources</td>\n",
       "      <td>203.0</td>\n",
       "      <td>1400</td>\n",
       "    </tr>\n",
       "    <tr>\n",
       "      <th>4</th>\n",
       "      <td>50</td>\n",
       "      <td>Shipping</td>\n",
       "      <td>121.0</td>\n",
       "      <td>1400</td>\n",
       "    </tr>\n",
       "  </tbody>\n",
       "</table>\n",
       "</div>"
      ],
      "text/plain": [
       "   DEPARTMENT_ID  DEPARTMENT_NAME  MANAGER_ID  LOCATION_ID\n",
       "0             10   Administration       200.0         1700\n",
       "1             20        Marketing       201.0         1800\n",
       "2             30       Purchasing       114.0         1700\n",
       "3             40  Human Resources       203.0         1400\n",
       "4             50         Shipping       121.0         1400"
      ]
     },
     "execution_count": 1,
     "metadata": {},
     "output_type": "execute_result"
    }
   ],
   "source": [
    "import pandas as pd\n",
    "\n",
    "# Read the CSV file into a DataFrame\n",
    "departments = pd.read_csv('departments_data.csv')\n",
    "\n",
    "# Display the first 5 rows\n",
    "departments.head()"
   ]
  },
  {
   "cell_type": "markdown",
   "metadata": {},
   "source": [
    "Data Types and Shape"
   ]
  },
  {
   "cell_type": "code",
   "execution_count": 2,
   "metadata": {},
   "outputs": [
    {
     "name": "stdout",
     "output_type": "stream",
     "text": [
      "DEPARTMENT_ID        int64\n",
      "DEPARTMENT_NAME     object\n",
      "MANAGER_ID         float64\n",
      "LOCATION_ID          int64\n",
      "dtype: object\n",
      "(27, 4)\n"
     ]
    }
   ],
   "source": [
    "# Data types of the columns\n",
    "print(departments.dtypes)\n",
    "\n",
    "# Shape of the DataFrame\n",
    "print(departments.shape)"
   ]
  },
  {
   "cell_type": "markdown",
   "metadata": {},
   "source": [
    "Data Cleaning"
   ]
  },
  {
   "cell_type": "code",
   "execution_count": 3,
   "metadata": {},
   "outputs": [
    {
     "name": "stdout",
     "output_type": "stream",
     "text": [
      "(22, 4)\n"
     ]
    }
   ],
   "source": [
    "# Remove the NaN values\n",
    "departments = departments.dropna()\n",
    "\n",
    "# Remove duplicates\n",
    "departments = departments.drop_duplicates()\n",
    "\n",
    "print(departments.shape)"
   ]
  },
  {
   "cell_type": "markdown",
   "metadata": {},
   "source": [
    "Basic Filtering"
   ]
  },
  {
   "cell_type": "code",
   "execution_count": 4,
   "metadata": {},
   "outputs": [
    {
     "name": "stdout",
     "output_type": "stream",
     "text": [
      "   DEPARTMENT_ID   DEPARTMENT_NAME  MANAGER_ID  LOCATION_ID\n",
      "0             40   Human Resources       203.0         1400\n",
      "1             50          Shipping       121.0         1400\n",
      "2             60                IT       103.0         1400\n",
      "3             70  Public Relations       204.0         1400\n",
      "4            110        Accounting       205.0         1400\n"
     ]
    }
   ],
   "source": [
    "# Filter the data based on location ID\n",
    "departments_filtered = departments[departments['LOCATION_ID'] == 1400]\n",
    "\n",
    "# Reset the index\n",
    "departments_filtered = departments_filtered.reset_index(drop=True)\n",
    "\n",
    "print(departments_filtered)"
   ]
  },
  {
   "cell_type": "markdown",
   "metadata": {},
   "source": [
    "Inner Merge in Pandas"
   ]
  },
  {
   "cell_type": "code",
   "execution_count": 5,
   "metadata": {},
   "outputs": [
    {
     "name": "stdout",
     "output_type": "stream",
     "text": [
      "    DEPARTMENT_ID       DEPARTMENT_NAME  MANAGER_ID  LOCATION_ID  \\\n",
      "0              10        Administration       200.0         1700   \n",
      "1              20             Marketing       201.0         1800   \n",
      "2              30            Purchasing       114.0         1700   \n",
      "3              40       Human Resources       203.0         1400   \n",
      "4              50              Shipping       121.0         1400   \n",
      "5              60                    IT       103.0         1400   \n",
      "6              70      Public Relations       204.0         1400   \n",
      "7              80                 Sales       145.0         1800   \n",
      "8              90             Executive       100.0         1700   \n",
      "9             100               Finance       108.0         1800   \n",
      "10            110            Accounting       205.0         1400   \n",
      "11            120              Treasury       169.0         1700   \n",
      "12            130         Corporate Tax       321.0         1700   \n",
      "13            140    Control And Credit       102.0         1800   \n",
      "14            150  Shareholder Services       283.0         1700   \n",
      "\n",
      "    EMPLOYEE_COUNT   BUDGET  REVENUE  FOUNDED_YEAR  \n",
      "0               50   500000  1500000          1995  \n",
      "1              120  1200000  4000000          2000  \n",
      "2               80   800000  2500000          1988  \n",
      "3               35   350000  1000000          1975  \n",
      "4               65   650000  1800000          1990  \n",
      "5              150  1500000  4500000          1965  \n",
      "6               95   950000  2700000          2005  \n",
      "7              110  1100000  3300000          1980  \n",
      "8               45   450000  1200000          1999  \n",
      "9               60   600000  2300000          1970  \n",
      "10             130  1300000  3500000          1994  \n",
      "11             140  1400000  3700000          1985  \n",
      "12             125  1250000  3250000          1992  \n",
      "13             100  1000000  2500000          1979  \n",
      "14              90   900000  1800000          1998  \n"
     ]
    }
   ],
   "source": [
    "departments_2 = pd.read_csv('departments_data_2.csv')\n",
    "\n",
    "# Perform inner merge\n",
    "common_departments = pd.merge(departments, departments_2, on='DEPARTMENT_ID', how='inner')\n",
    "\n",
    "print(common_departments)"
   ]
  },
  {
   "cell_type": "markdown",
   "metadata": {},
   "source": [
    "Filtering Data with Multiple Conditions"
   ]
  },
  {
   "cell_type": "code",
   "execution_count": 6,
   "metadata": {},
   "outputs": [
    {
     "name": "stdout",
     "output_type": "stream",
     "text": [
      "   DEPARTMENT_ID DEPARTMENT_NAME  MANAGER_ID  LOCATION_ID  EMPLOYEE_COUNT  \\\n",
      "0             20       Marketing       201.0         1800             120   \n",
      "1             60              IT       103.0         1400             150   \n",
      "2             80           Sales       145.0         1800             110   \n",
      "3            110      Accounting       205.0         1400             130   \n",
      "\n",
      "    BUDGET  REVENUE  FOUNDED_YEAR  \n",
      "0  1200000  4000000          2000  \n",
      "1  1500000  4500000          1965  \n",
      "2  1100000  3300000          1980  \n",
      "3  1300000  3500000          1994  \n"
     ]
    }
   ],
   "source": [
    "# Filter the data based on multiple conditions\n",
    "successful_departments = common_departments[(common_departments['REVENUE'] > 3000000) & (common_departments['LOCATION_ID'].isin([1800, 1400]))]\n",
    "\n",
    "# Reset the index\n",
    "successful_departments = successful_departments.reset_index(drop=True)\n",
    "\n",
    "print(successful_departments)"
   ]
  },
  {
   "cell_type": "markdown",
   "metadata": {},
   "source": [
    "Grouping in Pandas"
   ]
  },
  {
   "cell_type": "code",
   "execution_count": 7,
   "metadata": {},
   "outputs": [
    {
     "name": "stdout",
     "output_type": "stream",
     "text": [
      "               REVENUE                  \n",
      "                  mean      min      max\n",
      "LOCATION_ID                             \n",
      "1400         2700000.0  1000000  4500000\n",
      "1700         2325000.0  1200000  3700000\n",
      "1800         3025000.0  2300000  4000000\n"
     ]
    }
   ],
   "source": [
    "# Group the data by 'LOCATION_ID' and compute necessary measures\n",
    "revenue_by_location = common_departments.groupby('LOCATION_ID').agg({'REVENUE': ['mean', 'min', 'max']})\n",
    "\n",
    "print(revenue_by_location)"
   ]
  }
 ],
 "metadata": {
  "kernelspec": {
   "display_name": "base",
   "language": "python",
   "name": "python3"
  },
  "language_info": {
   "codemirror_mode": {
    "name": "ipython",
    "version": 3
   },
   "file_extension": ".py",
   "mimetype": "text/x-python",
   "name": "python",
   "nbconvert_exporter": "python",
   "pygments_lexer": "ipython3",
   "version": "3.9.13"
  }
 },
 "nbformat": 4,
 "nbformat_minor": 2
}
